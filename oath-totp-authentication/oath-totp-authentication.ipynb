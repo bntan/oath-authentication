{
 "cells": [
  {
   "cell_type": "markdown",
   "metadata": {},
   "source": [
    "# Understanding OATH TOTP authentications"
   ]
  },
  {
   "cell_type": "markdown",
   "metadata": {},
   "source": [
    "This notebook explains how OATH TOTP authentications work by describing the principles and intuitions behind them, and breaking down the TOTP value generation steps. The reader can try the commands in a ludic way using Google Authenticator and Python."
   ]
  },
  {
   "cell_type": "markdown",
   "metadata": {},
   "source": [
    "# Principles and intuitions"
   ]
  },
  {
   "cell_type": "markdown",
   "metadata": {},
   "source": [
    "TOTP (Time-based One-Time Password) algorithm is a HOTP (HMAC-based One-Time Password) algorithm extension. See my notebook dedicated to HOTP here: https://github.com/bntan/oath-authentication/blob/master/oath-hotp-authentication/oath-hotp-authentication.ipynb."
   ]
  },
  {
   "cell_type": "markdown",
   "metadata": {},
   "source": [
    "Like HOTP, TOTP is an OTP (One-Time Password) algorithm based on HMAC (Hash-based Message Authentication Code) but takes the current time as the counter. HMAC algorithm was published in February 1997 (in RFC-2104), HOTP algorithm was published in December 2005 (in RFC-4226), and TOTP algorithm was published in May 2011 (in RFC-6238)."
   ]
  },
  {
   "cell_type": "markdown",
   "metadata": {},
   "source": [
    "TOTP is one OATH (Open Authentication) cornerstone. OATH is an industry-wide collaboration that aims to promote strong authentication by leveraging existing open standards. TOTP provides an authentication method by symmetrically generating (on user side and on server side) human-readable codes or values, each, based on the current time, can be used only once."
   ]
  },
  {
   "cell_type": "markdown",
   "metadata": {},
   "source": [
    "TOTP algorithm key principles"
   ]
  },
  {
   "cell_type": "markdown",
   "metadata": {},
   "source": [
    "![](oath-totp-authentication_1.png)"
   ]
  },
  {
   "cell_type": "markdown",
   "metadata": {},
   "source": [
    "This article does not intent to describe in deep the cryptography operations, algorithms used but gives some intuitions behind them."
   ]
  },
  {
   "cell_type": "markdown",
   "metadata": {},
   "source": [
    "TOTP values are calculated by the operation TOTP ($K$) = HOTP($K$,$C$) = truncate(HMAC($K$,$C$)) mod $10^d$ where\n",
    "- $K$ is the secret key which is kept secret and shared by the user (in a token/mobile) and by the server\n",
    "- $C$ is the counter which is based on the current time (see below)\n",
    "- $d$ is the TOTP value size"
   ]
  },
  {
   "cell_type": "markdown",
   "metadata": {},
   "source": [
    "Current time counter"
   ]
  },
  {
   "cell_type": "markdown",
   "metadata": {},
   "source": [
    "The current time counter is calculated by the operation $C$ = $(T - To)$ / $Tx$ where\n",
    "- $T$ is the current time (e.g. unix time)\n",
    "- $To$ is the epoch (e.g. unix epoch is 0)\n",
    "- $Tx$ is one time duration (time duration between 2 TOTP)"
   ]
  },
  {
   "cell_type": "markdown",
   "metadata": {},
   "source": [
    "HMAC algorithm"
   ]
  },
  {
   "cell_type": "markdown",
   "metadata": {},
   "source": [
    "![](oath-totp-authentication_2.png)"
   ]
  },
  {
   "cell_type": "markdown",
   "metadata": {},
   "source": [
    "where\n",
    "- $K$ is the secret key\n",
    "- $C$ is the counter\n",
    "- $H$ is a hash algorithm\n",
    "- $ipad$ is the block-sized inner padding which corresponds to repeated value 0x36\n",
    "- $opad$ is the block-sized outer padding which corresponds to repeated value 0x5c\n",
    "- || denotes concatenation\n",
    "- $+$ denotes bitwise exclusive or (XOR)"
   ]
  },
  {
   "cell_type": "markdown",
   "metadata": {},
   "source": [
    "Truncate operation"
   ]
  },
  {
   "cell_type": "markdown",
   "metadata": {},
   "source": [
    "The truncate operation consists in \n",
    "- Taking the HMAC low-order 4 bits\n",
    "- Using them as a byte index $i$\n",
    "- Selecting 4 bytes starting at byte index $i$\n",
    "- truncate(HMAC) = HMAC[$i$:$i$+4]"
   ]
  },
  {
   "cell_type": "markdown",
   "metadata": {},
   "source": [
    "Here is a truncate operation example\n",
    "\n",
    "```\n",
    "   -------------------------------------------------------------\n",
    "   | HMAC Byte Number                                          |\n",
    "   -------------------------------------------------------------\n",
    "   |00|01|02|03|04|05|06|07|08|09|10|11|12|13|14|15|16|17|18|19|\n",
    "   -------------------------------------------------------------\n",
    "   | HMAC Byte Value                                           |\n",
    "   -------------------------------------------------------------\n",
    "   |1f|86|98|69|0e|02|ca|16|61|85|50|ef|7f|19|da|8e|94|5b|55|5a|\n",
    "   -------------------------------***********-----------------+-\n",
    " ```"
   ]
  },
  {
   "cell_type": "markdown",
   "metadata": {},
   "source": [
    "- HMAC low-order 4 bits is 0xa (see $+$ underlining)\n",
    "- The byte index $i$ is 10 = 0xa\n",
    "- The selected 4 bytes starting at index 10 are 0x50ef7f19 (see $*$ underlining). This is the truncated HMAC"
   ]
  },
  {
   "cell_type": "markdown",
   "metadata": {},
   "source": [
    "Let's now generate TOTP values step by step in practice using:\n",
    "- Hash algorithm: SHA-1\n",
    "- Block size: 64 bytes\n",
    "- TOTP value size: 6\n",
    "- One time duration: 30 seconds\n",
    "- Secret key: ABCDEFGHIJKLMNOP (in base 32)"
   ]
  },
  {
   "cell_type": "markdown",
   "metadata": {},
   "source": [
    "# Prerequisites"
   ]
  },
  {
   "cell_type": "markdown",
   "metadata": {},
   "source": [
    "Create the TOTP algorithm characteristics"
   ]
  },
  {
   "cell_type": "code",
   "execution_count": 1,
   "metadata": {},
   "outputs": [],
   "source": [
    "hash_algorithm = \"sha1\"\n",
    "block_size = 64\n",
    "totp_value_size = 6\n",
    "duration = 30"
   ]
  },
  {
   "cell_type": "markdown",
   "metadata": {},
   "source": [
    "Create the secret key"
   ]
  },
  {
   "cell_type": "code",
   "execution_count": 2,
   "metadata": {},
   "outputs": [],
   "source": [
    "secret_key = 'ABCDEFGHIJKLMNOP'"
   ]
  },
  {
   "cell_type": "markdown",
   "metadata": {},
   "source": [
    "# TOTP value generation with Google Authenticator"
   ]
  },
  {
   "cell_type": "markdown",
   "metadata": {},
   "source": [
    "Google Authenticator is a 2FA (Two-Factor Authentication) application published by Google. It implements open standard TOTP."
   ]
  },
  {
   "cell_type": "markdown",
   "metadata": {},
   "source": [
    "Register the secret key (manually or by scanning QR code)"
   ]
  },
  {
   "cell_type": "markdown",
   "metadata": {},
   "source": [
    "![](oath-totp-authentication_3.png)"
   ]
  },
  {
   "cell_type": "markdown",
   "metadata": {},
   "source": [
    "Generate the TOTP values during 2 minutes every 30 seconds"
   ]
  },
  {
   "cell_type": "markdown",
   "metadata": {},
   "source": [
    "![](oath-totp-authentication_4.png)"
   ]
  },
  {
   "cell_type": "markdown",
   "metadata": {},
   "source": [
    "# TOTP value generation with Python"
   ]
  },
  {
   "cell_type": "markdown",
   "metadata": {},
   "source": [
    "The Python PyOTP library implements open standard TOTP. It can be used to generate registration QR codes, generate and validate TOTP values."
   ]
  },
  {
   "cell_type": "markdown",
   "metadata": {},
   "source": [
    "Generate the TOTP values during 2 minutes every 30 seconds"
   ]
  },
  {
   "cell_type": "code",
   "execution_count": 3,
   "metadata": {},
   "outputs": [
    {
     "name": "stdout",
     "output_type": "stream",
     "text": [
      "Requirement already satisfied: pyotp in /home/jupyterlab/conda/envs/python/lib/python3.6/site-packages (2.4.1)\n"
     ]
    }
   ],
   "source": [
    "! pip install pyotp\n",
    "import pyotp\n",
    "import time"
   ]
  },
  {
   "cell_type": "code",
   "execution_count": 4,
   "metadata": {},
   "outputs": [
    {
     "name": "stdout",
     "output_type": "stream",
     "text": [
      "TOTP value corresponding to time 1604931390 is 389698\n",
      "     Waiting 30 seconds ..............................\n",
      "TOTP value corresponding to time 1604931420 is 505916\n",
      "     Waiting 30 seconds ..............................\n",
      "TOTP value corresponding to time 1604931450 is 262714\n",
      "     Waiting 30 seconds ..............................\n",
      "TOTP value corresponding to time 1604931480 is 092212\n"
     ]
    }
   ],
   "source": [
    "totp = pyotp.TOTP(secret_key)\n",
    "for i in (range(4)):\n",
    "    totp_value = totp.now()\n",
    "    print('TOTP value corresponding to time ' + str(int(time.time())) + ' is ' + str(totp_value))\n",
    "    if (i < 3):   \n",
    "        print('     Waiting '+ str(duration) + ' seconds ', end = '')\n",
    "        for j in range (duration):\n",
    "            print('.', end = '')\n",
    "            time.sleep(1)\n",
    "        print()"
   ]
  },
  {
   "cell_type": "markdown",
   "metadata": {},
   "source": [
    "The TOTP values are the same as the ones generated with Google Authenticator"
   ]
  },
  {
   "cell_type": "markdown",
   "metadata": {},
   "source": [
    "# Breaking down the TOTP value generation steps"
   ]
  },
  {
   "cell_type": "code",
   "execution_count": 5,
   "metadata": {},
   "outputs": [],
   "source": [
    "import base64\n",
    "import hashlib"
   ]
  },
  {
   "cell_type": "markdown",
   "metadata": {},
   "source": [
    "Implement HMAC algorithm "
   ]
  },
  {
   "cell_type": "code",
   "execution_count": 6,
   "metadata": {},
   "outputs": [],
   "source": [
    "def hmac(secret_key, counter):\n",
    "    i_pad = bytes((x ^ 0x36) for x in range(256))\n",
    "    o_pad = bytes((x ^ 0x5C) for x in range(256))\n",
    "    key_pad = secret_key.ljust(block_size, b'\\0')    \n",
    "    i_key_pad = key_pad.translate(i_pad)\n",
    "    o_key_pad = key_pad.translate(o_pad)\n",
    "    hash_sum_1 = hashlib.new(hash_algorithm, i_key_pad + counter).digest()\n",
    "    hash_sum_2 = hashlib.new(hash_algorithm, o_key_pad + hash_sum_1).digest()\n",
    "    hash = hash_sum_2\n",
    "    return hash"
   ]
  },
  {
   "cell_type": "markdown",
   "metadata": {},
   "source": [
    "Implement truncation"
   ]
  },
  {
   "cell_type": "code",
   "execution_count": 7,
   "metadata": {},
   "outputs": [],
   "source": [
    "def truncate(hash):\n",
    "    i = hash[-1] % 16\n",
    "    truncated = int.from_bytes(hash[i:i + 4], byteorder = 'big', signed = False) % 2 ** 31\n",
    "    return truncated"
   ]
  },
  {
   "cell_type": "markdown",
   "metadata": {},
   "source": [
    "Implement TOTP algorithm"
   ]
  },
  {
   "cell_type": "code",
   "execution_count": 8,
   "metadata": {},
   "outputs": [],
   "source": [
    "def totp():\n",
    "    hash = hmac(base64.b32decode(secret_key), int(time.time()/duration).to_bytes(8, byteorder = 'big'))\n",
    "    truncated = truncate(hash)\n",
    "    totp_value = truncated % 10 ** totp_value_size\n",
    "    return totp_value"
   ]
  },
  {
   "cell_type": "markdown",
   "metadata": {},
   "source": [
    "Generate the TOTP values during 2 minutes every 30 seconds"
   ]
  },
  {
   "cell_type": "code",
   "execution_count": 9,
   "metadata": {},
   "outputs": [
    {
     "name": "stdout",
     "output_type": "stream",
     "text": [
      "TOTP value corresponding to time 1604931390 is 389698\n",
      "     Waiting 30 seconds ..............................\n",
      "TOTP value corresponding to time 1604931420 is 505916\n",
      "     Waiting 30 seconds ..............................\n",
      "TOTP value corresponding to time 1604931450 is 262714\n",
      "     Waiting 30 seconds ..............................\n",
      "TOTP value corresponding to time 1604931480 is 092212\n"
     ]
    }
   ],
   "source": [
    "for i in (range(4)):\n",
    "    totp_value = totp()\n",
    "    print('TOTP value corresponding to time ' + str(int(time.time())) + ' is ' + str(totp_value))\n",
    "    if (i < 3):   \n",
    "        print('     Waiting '+ str(duration) + ' seconds ', end = '')\n",
    "        for j in range (duration):\n",
    "            print('.', end = '')\n",
    "            time.sleep(1)\n",
    "        print()"
   ]
  },
  {
   "cell_type": "markdown",
   "metadata": {},
   "source": [
    "The TOTP values are the same as the ones generated with Google Authenticator and Python PyOTP"
   ]
  },
  {
   "cell_type": "markdown",
   "metadata": {},
   "source": [
    "# Links"
   ]
  },
  {
   "cell_type": "markdown",
   "metadata": {},
   "source": [
    "- HMAC: https://en.wikipedia.org/wiki/HMAC\n",
    "- HMAC (RFC-2104): https://tools.ietf.org/html/rfc2104\n",
    "- HOTP: https://en.wikipedia.org/wiki/HMAC-based_One-time_Password_algorithm\n",
    "- HOTP (RFC-4226): https://tools.ietf.org/html/rfc4226\n",
    "- TOTP: https://en.wikipedia.org/wiki/Time-based_One-time_Password_algorithm\n",
    "- TOTP (RFC-6238): https://tools.ietf.org/html/rfc6238\n",
    "- OATH: https://openauthentication.org\n",
    "- Google Authenticator: https://en.wikipedia.org/wiki/Google_Authenticator\n",
    "- PyOTP: https://github.com/pyauth/pyotp"
   ]
  }
 ],
 "metadata": {
  "kernelspec": {
   "display_name": "Python",
   "language": "python",
   "name": "conda-env-python-py"
  },
  "language_info": {
   "codemirror_mode": {
    "name": "ipython",
    "version": 3
   },
   "file_extension": ".py",
   "mimetype": "text/x-python",
   "name": "python",
   "nbconvert_exporter": "python",
   "pygments_lexer": "ipython3",
   "version": "3.6.11"
  }
 },
 "nbformat": 4,
 "nbformat_minor": 4
}
